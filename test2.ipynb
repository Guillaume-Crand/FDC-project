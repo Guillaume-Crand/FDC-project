{
 "cells": [
  {
   "cell_type": "code",
   "execution_count": 5,
   "metadata": {},
   "outputs": [],
   "source": [
    "from src.network.client import Client"
   ]
  },
  {
   "cell_type": "code",
   "execution_count": 14,
   "metadata": {},
   "outputs": [
    {
     "name": "stdout",
     "output_type": "stream",
     "text": [
      "Thank you for connecting\n"
     ]
    }
   ],
   "source": [
    "client = Client(port = 40910)\n",
    "client.start()"
   ]
  },
  {
   "cell_type": "code",
   "execution_count": 15,
   "metadata": {},
   "outputs": [
    {
     "name": "stdout",
     "output_type": "stream",
     "text": [
      "\n"
     ]
    }
   ],
   "source": [
    "client.continue_loop = False"
   ]
  },
  {
   "cell_type": "code",
   "execution_count": 4,
   "metadata": {},
   "outputs": [
    {
     "name": "stderr",
     "output_type": "stream",
     "text": [
      "Exception in thread Thread-4:\n",
      "Traceback (most recent call last):\n",
      "  File \"/home/parfourator/miniconda3/envs/fdc-project/lib/python3.11/threading.py\", line 1038, in _bootstrap_inner\n",
      "    self.run()\n",
      "  File \"/home/parfourator/dev/FDC-project/src/network/client.py\", line 21, in run\n",
      "    self.send_message()\n",
      "  File \"/home/parfourator/dev/FDC-project/src/network/client.py\", line 35, in send_message\n",
      "    self.socket.send(message.encode())\n",
      "BrokenPipeError: [Errno 32] Broken pipe\n"
     ]
    },
    {
     "name": "stdout",
     "output_type": "stream",
     "text": [
      "\n",
      "message sent : test\n"
     ]
    }
   ],
   "source": [
    "client.add_messages(\"test\")"
   ]
  },
  {
   "cell_type": "code",
   "execution_count": null,
   "metadata": {},
   "outputs": [],
   "source": []
  },
  {
   "cell_type": "code",
   "execution_count": null,
   "metadata": {},
   "outputs": [],
   "source": []
  },
  {
   "cell_type": "code",
   "execution_count": 2,
   "metadata": {},
   "outputs": [
    {
     "name": "stdout",
     "output_type": "stream",
     "text": [
      "Received b'Hello, world'\n"
     ]
    }
   ],
   "source": [
    "# echo-client.py\n",
    "\n",
    "import socket\n",
    "\n",
    "HOST = \"127.0.0.1\"  # The server's hostname or IP address\n",
    "PORT = 65432  # The port used by the server\n",
    "\n",
    "with socket.socket(socket.AF_INET, socket.SOCK_STREAM) as s:\n",
    "    s.connect((HOST, PORT))\n",
    "    s.sendall(b\"Hello, world\")\n",
    "    data = s.recv(1024)\n",
    "\n",
    "print(f\"Received {data!r}\")\n"
   ]
  },
  {
   "cell_type": "code",
   "execution_count": 11,
   "metadata": {},
   "outputs": [
    {
     "name": "stdout",
     "output_type": "stream",
     "text": [
      "Starting connection 1 to ('127.0.0.1', 65431)\n",
      "Starting connection 2 to ('127.0.0.1', 65431)\n",
      "Sending b'Message 1 from client.' to connection 1\n",
      "Sending b'Message 1 from client.' to connection 2\n",
      "Sending b'Message 2 from client.' to connection 1\n",
      "Sending b'Message 2 from client.' to connection 2\n",
      "Received b'Message 1 from client.Message 2 from client.' from connection 1\n",
      "Closing connection 1\n",
      "Received b'Message 1 from client.Message 2 from client.' from connection 2\n",
      "Closing connection 2\n",
      "Caught keyboard interrupt, exiting\n"
     ]
    }
   ],
   "source": [
    "# multiconn-client.py\n",
    "\n",
    "import sys\n",
    "import socket\n",
    "import selectors\n",
    "import types\n",
    "\n",
    "sel = selectors.DefaultSelector()\n",
    "messages = [b\"Message 1 from client.\", b\"Message 2 from client.\"]\n",
    "\n",
    "def start_connections(host, port, num_conns):\n",
    "    server_addr = (host, port)\n",
    "    for i in range(0, num_conns):\n",
    "        connid = i + 1\n",
    "        print(f\"Starting connection {connid} to {server_addr}\")\n",
    "        sock = socket.socket(socket.AF_INET, socket.SOCK_STREAM)\n",
    "        sock.setblocking(False)\n",
    "        sock.connect_ex(server_addr)\n",
    "        events = selectors.EVENT_READ | selectors.EVENT_WRITE\n",
    "        data = types.SimpleNamespace(\n",
    "            connid=connid,\n",
    "            msg_total=sum(len(m) for m in messages),\n",
    "            recv_total=0,\n",
    "            messages=messages.copy(),\n",
    "            outb=b\"\",\n",
    "        )\n",
    "        sel.register(sock, events, data=data)\n",
    "\n",
    "def service_connection(key, mask):\n",
    "    sock = key.fileobj\n",
    "    data = key.data\n",
    "    if mask & selectors.EVENT_READ:\n",
    "        recv_data = sock.recv(1024)  # Should be ready to read\n",
    "        if recv_data:\n",
    "           print(f\"Received {recv_data!r} from connection {data.connid}\")\n",
    "           data.recv_total += len(recv_data)\n",
    "        if not recv_data or data.recv_total == data.msg_total:\n",
    "            print(f\"Closing connection {data.connid}\")\n",
    "            sel.unregister(sock)\n",
    "            sock.close()\n",
    "    if mask & selectors.EVENT_WRITE:\n",
    "        if not data.outb and data.messages:\n",
    "            data.outb = data.messages.pop(0)\n",
    "        if data.outb:\n",
    "            print(f\"Sending {data.outb!r} to connection {data.connid}\")\n",
    "            sent = sock.send(data.outb)  # Should be ready to write\n",
    "            data.outb = data.outb[sent:]\n",
    "\n",
    "host, port = \"127.0.0.1\", 65431\n",
    "start_connections(host, port,2)\n",
    "try:\n",
    "    while True:\n",
    "        events = sel.select(timeout=None)\n",
    "        for key, mask in events:\n",
    "            service_connection(key, mask)\n",
    "except KeyboardInterrupt:\n",
    "    print(\"Caught keyboard interrupt, exiting\")\n",
    "finally:\n",
    "    sel.close()"
   ]
  },
  {
   "cell_type": "code",
   "execution_count": 12,
   "metadata": {},
   "outputs": [
    {
     "name": "stdout",
     "output_type": "stream",
     "text": [
      "'little'\n"
     ]
    }
   ],
   "source": [
    "import sys\n",
    "print(repr(sys.byteorder))"
   ]
  },
  {
   "cell_type": "code",
   "execution_count": null,
   "metadata": {},
   "outputs": [],
   "source": [
    "# libclient.py\n",
    "\n",
    "class Message:\n",
    "    def __init__(self, selector, sock, addr):\n",
    "        pass\n",
    "\n",
    "    def queue_request(self):\n",
    "        content = self.request[\"content\"]\n",
    "        content_type = self.request[\"type\"]\n",
    "        content_encoding = self.request[\"encoding\"]\n",
    "        if content_type == \"text/json\":\n",
    "            req = {\n",
    "                \"content_bytes\": self._json_encode(content, content_encoding),\n",
    "                \"content_type\": content_type,\n",
    "                \"content_encoding\": content_encoding,\n",
    "            }\n",
    "        else:\n",
    "            req = {\n",
    "                \"content_bytes\": content,\n",
    "                \"content_type\": content_type,\n",
    "                \"content_encoding\": content_encoding,\n",
    "            }\n",
    "        message = self._create_message(**req)\n",
    "        self._send_buffer += message\n",
    "        self._request_queued = True\n",
    "\n",
    "    def process_events(self, mask):\n",
    "        if mask & selectors.EVENT_READ:\n",
    "            self.read()\n",
    "        if mask & selectors.EVENT_WRITE:\n",
    "            self.write()\n",
    "    \n",
    "    def read(self):\n",
    "        self._read()\n",
    "\n",
    "        if self._jsonheader_len is None:\n",
    "            self.process_protoheader()\n",
    "\n",
    "        if self._jsonheader_len is not None:\n",
    "            if self.jsonheader is None:\n",
    "                self.process_jsonheader()\n",
    "\n",
    "        if self.jsonheader:\n",
    "            if self.request is None:\n",
    "                self.process_response()\n",
    "    \n",
    "    def write(self):\n",
    "        if not self._request_queued:\n",
    "            self.queue_request()\n",
    "\n",
    "        self._write()\n",
    "\n",
    "        if self._request_queued:\n",
    "            if not self._send_buffer:\n",
    "                # Set selector to listen for read events, we're done writing.\n",
    "                self._set_selector_events_mask(\"r\")\n",
    "\n",
    "    def process_response(self):\n",
    "\n",
    "        # ...\n",
    "\n",
    "        # Close when response has been processed\n",
    "        self.close()\n",
    "    \n",
    "    def _read(self):\n",
    "        try:\n",
    "            # Should be ready to read\n",
    "            data = self.sock.recv(4096)\n",
    "        except BlockingIOError:\n",
    "            # Resource temporarily unavailable (errno EWOULDBLOCK)\n",
    "            pass\n",
    "        else:\n",
    "            if data:\n",
    "                self._recv_buffer += data\n",
    "            else:\n",
    "                raise RuntimeError(\"Peer closed.\")"
   ]
  },
  {
   "cell_type": "code",
   "execution_count": null,
   "metadata": {},
   "outputs": [],
   "source": [
    "# app-client.py\n",
    "\n",
    "import sys\n",
    "import socket\n",
    "import selectors\n",
    "import types\n",
    "\n",
    "sel = selectors.DefaultSelector()\n",
    "messages = [b\"Message 1 from client.\", b\"Message 2 from client.\"]\n",
    "\n",
    "def start_connections(host, port, request):\n",
    "    addr = (host, port)\n",
    "    print(f\"Starting connection to {addr}\")\n",
    "    sock = socket.socket(socket.AF_INET, socket.SOCK_STREAM)\n",
    "    sock.setblocking(False)\n",
    "    sock.connect_ex(addr)\n",
    "    events = selectors.EVENT_READ | selectors.EVENT_WRITE\n",
    "    message = Message(sel, sock, addr, request)\n",
    "    sel.register(sock, events, data=message)\n",
    "\n",
    "def service_connection(key, mask):\n",
    "    sock = key.fileobj\n",
    "    data = key.data\n",
    "    if mask & selectors.EVENT_READ:\n",
    "        recv_data = sock.recv(1024)  # Should be ready to read\n",
    "        if recv_data:\n",
    "           print(f\"Received {recv_data!r} from connection {data.connid}\")\n",
    "           data.recv_total += len(recv_data)\n",
    "        if not recv_data or data.recv_total == data.msg_total:\n",
    "            print(f\"Closing connection {data.connid}\")\n",
    "            sel.unregister(sock)\n",
    "            sock.close()\n",
    "    if mask & selectors.EVENT_WRITE:\n",
    "        if not data.outb and data.messages:\n",
    "            data.outb = data.messages.pop(0)\n",
    "        if data.outb:\n",
    "            print(f\"Sending {data.outb!r} to connection {data.connid}\")\n",
    "            sent = sock.send(data.outb)  # Should be ready to write\n",
    "            data.outb = data.outb[sent:]\n",
    "\n",
    "host, port = \"127.0.0.1\", 65431\n",
    "start_connections(host, port,2)\n",
    "\n",
    "try:\n",
    "    while True:\n",
    "        events = sel.select(timeout=1)\n",
    "        for key, mask in events:\n",
    "            message = key.data\n",
    "            try:\n",
    "                message.process_events(mask)\n",
    "            except Exception:\n",
    "                print(\n",
    "                    f\"Main: Error: Exception for {message.addr}:\\n\"\n",
    "                    f\"{traceback.format_exc()}\"\n",
    "                )\n",
    "                message.close()\n",
    "        # Check for a socket being monitored to continue.\n",
    "        if not sel.get_map():\n",
    "            break\n",
    "except KeyboardInterrupt:\n",
    "    print(\"Caught keyboard interrupt, exiting\")\n",
    "finally:\n",
    "    sel.close()"
   ]
  }
 ],
 "metadata": {
  "kernelspec": {
   "display_name": "fdc-project",
   "language": "python",
   "name": "python3"
  },
  "language_info": {
   "codemirror_mode": {
    "name": "ipython",
    "version": 3
   },
   "file_extension": ".py",
   "mimetype": "text/x-python",
   "name": "python",
   "nbconvert_exporter": "python",
   "pygments_lexer": "ipython3",
   "version": "3.10.12"
  }
 },
 "nbformat": 4,
 "nbformat_minor": 2
}
