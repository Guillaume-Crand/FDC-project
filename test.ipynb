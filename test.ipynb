{
 "cells": [
  {
   "cell_type": "code",
   "execution_count": 1,
   "metadata": {},
   "outputs": [],
   "source": [
    "from src.network.server import Server"
   ]
  },
  {
   "cell_type": "code",
   "execution_count": 2,
   "metadata": {},
   "outputs": [
    {
     "name": "stdout",
     "output_type": "stream",
     "text": [
      "Got connection from ('127.0.0.1', 34388)\n"
     ]
    }
   ],
   "source": [
    "server = Server(port = 40687) \n",
    "server.start()"
   ]
  },
  {
   "cell_type": "code",
   "execution_count": 4,
   "metadata": {},
   "outputs": [],
   "source": [
    "server.add_messages(\"test2\")  "
   ]
  },
  {
   "cell_type": "code",
   "execution_count": null,
   "metadata": {},
   "outputs": [],
   "source": []
  },
  {
   "cell_type": "code",
   "execution_count": 2,
   "metadata": {},
   "outputs": [
    {
     "name": "stdout",
     "output_type": "stream",
     "text": [
      "Connected by ('127.0.0.1', 33330)\n"
     ]
    }
   ],
   "source": [
    "# echo-server.py\n",
    "\n",
    "import socket\n",
    "\n",
    "HOST = \"127.0.0.1\"  # Standard loopback interface address (localhost)\n",
    "PORT = 65432  # Port to listen on (non-privileged ports are > 1023)\n",
    "\n",
    "with socket.socket(socket.AF_INET, socket.SOCK_STREAM) as s:\n",
    "    s.bind((HOST, PORT))\n",
    "    s.listen()\n",
    "    conn, addr = s.accept()\n",
    "    with conn:\n",
    "        print(f\"Connected by {addr}\")\n",
    "        while True:\n",
    "            data = conn.recv(1024)\n",
    "            if not data:\n",
    "                break\n",
    "            conn.sendall(data)\n"
   ]
  },
  {
   "cell_type": "code",
   "execution_count": 4,
   "metadata": {},
   "outputs": [
    {
     "name": "stdout",
     "output_type": "stream",
     "text": [
      "Listening on ('127.0.0.1', 65431)\n",
      "Accepted connection from ('127.0.0.1', 49700)\n",
      "Accepted connection from ('127.0.0.1', 49712)\n",
      "Echoing b'Message 1 from client.Message 2 from client.' to ('127.0.0.1', 49700)\n",
      "Echoing b'Message 1 from client.Message 2 from client.' to ('127.0.0.1', 49712)\n",
      "Closing connection to ('127.0.0.1', 49700)\n",
      "Closing connection to ('127.0.0.1', 49712)\n",
      "Caught keyboard interrupt, exiting\n"
     ]
    }
   ],
   "source": [
    "# multiconn-server.py\n",
    "\n",
    "import sys\n",
    "import socket\n",
    "import selectors\n",
    "import types\n",
    "\n",
    "sel = selectors.DefaultSelector()\n",
    "\n",
    "host, port = \"127.0.0.1\", 65431\n",
    "lsock = socket.socket(socket.AF_INET, socket.SOCK_STREAM)\n",
    "lsock.bind((host, port))\n",
    "lsock.listen()\n",
    "print(f\"Listening on {(host, port)}\")\n",
    "lsock.setblocking(False)\n",
    "sel.register(lsock, selectors.EVENT_READ, data=None)\n",
    "\n",
    "def accept_wrapper(sock):\n",
    "    conn, addr = sock.accept()  # Should be ready to read\n",
    "    print(f\"Accepted connection from {addr}\")\n",
    "    conn.setblocking(False)\n",
    "    data = types.SimpleNamespace(addr=addr, inb=b\"\", outb=b\"\")\n",
    "    events = selectors.EVENT_READ | selectors.EVENT_WRITE\n",
    "    sel.register(conn, events, data=data)\n",
    "\n",
    "def service_connection(key, mask):\n",
    "    sock = key.fileobj\n",
    "    data = key.data\n",
    "    if mask & selectors.EVENT_READ:\n",
    "        recv_data = sock.recv(1024)  # Should be ready to read\n",
    "        if recv_data:\n",
    "            data.outb += recv_data\n",
    "        else:\n",
    "            print(f\"Closing connection to {data.addr}\")\n",
    "            sel.unregister(sock)\n",
    "            sock.close()\n",
    "    if mask & selectors.EVENT_WRITE:\n",
    "        if data.outb:\n",
    "            print(f\"Echoing {data.outb!r} to {data.addr}\")\n",
    "            sent = sock.send(data.outb)  # Should be ready to write\n",
    "            data.outb = data.outb[sent:]\n",
    "\n",
    "try:\n",
    "    while True:\n",
    "        events = sel.select(timeout=None)\n",
    "        for key, mask in events:\n",
    "            if key.data is None:\n",
    "                accept_wrapper(key.fileobj)\n",
    "            else:\n",
    "                service_connection(key, mask)\n",
    "except KeyboardInterrupt:\n",
    "    print(\"Caught keyboard interrupt, exiting\")\n",
    "finally:\n",
    "    sel.close()\n"
   ]
  },
  {
   "cell_type": "code",
   "execution_count": null,
   "metadata": {},
   "outputs": [],
   "source": [
    "# libserver.py\n",
    "\n",
    "class Message:\n",
    "    def __init__(self, selector, sock, addr):\n",
    "        pass\n",
    "\n",
    "    \n",
    "    def _write(self):\n",
    "        if self._send_buffer:\n",
    "            print(f\"Sending {self._send_buffer!r} to {self.addr}\")\n",
    "            try:\n",
    "                # Should be ready to write\n",
    "                sent = self.sock.send(self._send_buffer)\n",
    "            except BlockingIOError:\n",
    "                # Resource temporarily unavailable (errno EWOULDBLOCK)\n",
    "                pass\n",
    "            else:\n",
    "                self._send_buffer = self._send_buffer[sent:]\n",
    "                # Close when the buffer is drained. The response has been sent.\n",
    "                if sent and not self._send_buffer:\n",
    "                    self.close()\n",
    "\n",
    "    def process_protoheader(self):\n",
    "        hdrlen = 2\n",
    "        if len(self._recv_buffer) >= hdrlen:\n",
    "            self._jsonheader_len = struct.unpack(\n",
    "                \">H\", self._recv_buffer[:hdrlen]\n",
    "            )[0]\n",
    "            self._recv_buffer = self._recv_buffer[hdrlen:]\n",
    "    \n",
    "    def process_jsonheader(self):\n",
    "        hdrlen = self._jsonheader_len\n",
    "        if len(self._recv_buffer) >= hdrlen:\n",
    "            self.jsonheader = self._json_decode(\n",
    "                self._recv_buffer[:hdrlen], \"utf-8\"\n",
    "            )\n",
    "            self._recv_buffer = self._recv_buffer[hdrlen:]\n",
    "            for reqhdr in (\n",
    "                \"byteorder\",\n",
    "                \"content-length\",\n",
    "                \"content-type\",\n",
    "                \"content-encoding\",\n",
    "            ):\n",
    "                if reqhdr not in self.jsonheader:\n",
    "                    raise ValueError(f\"Missing required header '{reqhdr}'.\")\n",
    "\n",
    "    def process_request(self):\n",
    "        content_len = self.jsonheader[\"content-length\"]\n",
    "        if not len(self._recv_buffer) >= content_len:\n",
    "            return\n",
    "        data = self._recv_buffer[:content_len]\n",
    "        self._recv_buffer = self._recv_buffer[content_len:]\n",
    "        if self.jsonheader[\"content-type\"] == \"text/json\":\n",
    "            encoding = self.jsonheader[\"content-encoding\"]\n",
    "            self.request = self._json_decode(data, encoding)\n",
    "            print(f\"Received request {self.request!r} from {self.addr}\")\n",
    "        else:\n",
    "            # Binary or unknown content-type\n",
    "            self.request = data\n",
    "            print(\n",
    "                f\"Received {self.jsonheader['content-type']} \"\n",
    "                f\"request from {self.addr}\"\n",
    "            )\n",
    "        # Set selector to listen for write events, we're done reading.\n",
    "        self._set_selector_events_mask(\"w\")\n",
    "\n",
    "    def process_events(self, mask):\n",
    "        if mask & selectors.EVENT_READ:\n",
    "            self.read()\n",
    "        if mask & selectors.EVENT_WRITE:\n",
    "            self.write()\n",
    "    \n",
    "    def read(self):\n",
    "        self._read()\n",
    "\n",
    "        if self._jsonheader_len is None:\n",
    "            self.process_protoheader()\n",
    "\n",
    "        if self._jsonheader_len is not None:\n",
    "            if self.jsonheader is None:\n",
    "                self.process_jsonheader()\n",
    "\n",
    "        if self.jsonheader:\n",
    "            if self.request is None:\n",
    "                self.process_request()\n",
    "    \n",
    "    \n",
    "    def write(self):\n",
    "        if self.request:\n",
    "            if not self.response_created:\n",
    "                self.create_response()\n",
    "\n",
    "        self._write()\n",
    "    \n",
    "    def create_response(self):\n",
    "        if self.jsonheader[\"content-type\"] == \"text/json\":\n",
    "            response = self._create_response_json_content()\n",
    "        else:\n",
    "            # Binary or unknown content-type\n",
    "            response = self._create_response_binary_content()\n",
    "        message = self._create_message(**response)\n",
    "        self.response_created = True\n",
    "        self._send_buffer += message"
   ]
  },
  {
   "cell_type": "code",
   "execution_count": null,
   "metadata": {},
   "outputs": [],
   "source": [
    "# app-server.py\n",
    "\n",
    "import sys\n",
    "import socket\n",
    "import selectors\n",
    "import types\n",
    "\n",
    "sel = selectors.DefaultSelector()\n",
    "\n",
    "host, port = \"127.0.0.1\", 65431\n",
    "lsock = socket.socket(socket.AF_INET, socket.SOCK_STREAM)\n",
    "# Avoid bind() exception: OSError: [Errno 48] Address already in use\n",
    "lsock.setsockopt(socket.SOL_SOCKET, socket.SO_REUSEADDR, 1)\n",
    "lsock.bind((host, port))\n",
    "lsock.listen()\n",
    "print(f\"Listening on {(host, port)}\")\n",
    "lsock.setblocking(False)\n",
    "sel.register(lsock, selectors.EVENT_READ, data=None)\n",
    "\n",
    "def accept_wrapper(sock):\n",
    "    conn, addr = sock.accept()  # Should be ready to read\n",
    "    print(f\"Accepted connection from {addr}\")\n",
    "    conn.setblocking(False)\n",
    "    message = Message(sel, conn, addr)\n",
    "    events = selectors.EVENT_READ \n",
    "    sel.register(conn, events, data=message)\n",
    "\n",
    "def service_connection(key, mask):\n",
    "    sock = key.fileobj\n",
    "    data = key.data\n",
    "    if mask & selectors.EVENT_READ:\n",
    "        recv_data = sock.recv(1024)  # Should be ready to read\n",
    "        if recv_data:\n",
    "            data.outb += recv_data\n",
    "        else:\n",
    "            print(f\"Closing connection to {data.addr}\")\n",
    "            sel.unregister(sock)\n",
    "            sock.close()\n",
    "    if mask & selectors.EVENT_WRITE:\n",
    "        if data.outb:\n",
    "            print(f\"Echoing {data.outb!r} to {data.addr}\")\n",
    "            sent = sock.send(data.outb)  # Should be ready to write\n",
    "            data.outb = data.outb[sent:]\n",
    "\n",
    "try:\n",
    "    while True:\n",
    "        events = sel.select(timeout=None)\n",
    "        for key, mask in events:\n",
    "            if key.data is None:\n",
    "                accept_wrapper(key.fileobj)\n",
    "            else:\n",
    "                message = key.data\n",
    "                try:\n",
    "                    message.process_events(mask)\n",
    "                except Exception:\n",
    "                    print(\n",
    "                        f\"Main: Error: Exception for {message.addr}:\\n\"\n",
    "                        f\"{traceback.format_exc()}\"\n",
    "                    )\n",
    "                    message.close()\n",
    "\n",
    "\n",
    "                # service_connection(key, mask)\n",
    "except KeyboardInterrupt:\n",
    "    print(\"Caught keyboard interrupt, exiting\")\n",
    "finally:\n",
    "    sel.close()\n"
   ]
  },
  {
   "cell_type": "code",
   "execution_count": null,
   "metadata": {},
   "outputs": [],
   "source": []
  },
  {
   "cell_type": "code",
   "execution_count": 1,
   "metadata": {},
   "outputs": [],
   "source": [
    "import pickle"
   ]
  },
  {
   "cell_type": "code",
   "execution_count": 6,
   "metadata": {},
   "outputs": [
    {
     "data": {
      "text/plain": [
       "('26', b'\\x80\\x04\\x95\\x06\\x00\\x00\\x00\\x00\\x00\\x00\\x00\\x8c\\x0226\\x94.', '26')"
      ]
     },
     "execution_count": 6,
     "metadata": {},
     "output_type": "execute_result"
    }
   ],
   "source": [
    "var = \"26\"\n",
    "bvar = pickle.dumps(var)\n",
    "varbis = pickle.loads(bvar)\n",
    "var,bvar,varbis"
   ]
  },
  {
   "cell_type": "code",
   "execution_count": 2,
   "metadata": {},
   "outputs": [],
   "source": [
    "import io\n",
    "import json\n",
    "import pickle\n",
    "import selectors\n",
    "import struct\n",
    "import sys"
   ]
  },
  {
   "cell_type": "code",
   "execution_count": 4,
   "metadata": {},
   "outputs": [],
   "source": [
    "class Message:\n",
    "    def __init__(self):\n",
    "        pass\n",
    "\n",
    "    def encode(self):\n",
    "        return json.dumps(obj, ensure_ascii=False).encode(encoding)\n",
    "\n",
    "    def decode(self):\n",
    "        pass"
   ]
  },
  {
   "cell_type": "code",
   "execution_count": 5,
   "metadata": {},
   "outputs": [],
   "source": [
    "message = Message()"
   ]
  },
  {
   "cell_type": "code",
   "execution_count": 1,
   "metadata": {},
   "outputs": [
    {
     "name": "stdout",
     "output_type": "stream",
     "text": [
      "b'\\x00g{\"byteorder\": \"little\", \"content-type\": \"text/json\", \"content-encoding\": \"utf-8\", \"content-length\": 10}\"saucisse\"'\n",
      "115\n",
      "b'42' saucisse\n"
     ]
    }
   ],
   "source": [
    "from src.network import message_utils\n",
    "from src.network.message import MessageBase\n",
    "\n",
    "\n",
    "test = \"saucisse\"\n",
    "print(btest := message_utils.wrap_obj_into_json_bytes(test))\n",
    "print(len(btest))\n",
    "_recv_buffer,dbtest = message_utils.unwrap_json_bytes_into_obj(btest+b\"42\")\n",
    "print(dbtest,_recv_buffer)"
   ]
  }
 ],
 "metadata": {
  "kernelspec": {
   "display_name": "fdc-project",
   "language": "python",
   "name": "python3"
  },
  "language_info": {
   "codemirror_mode": {
    "name": "ipython",
    "version": 3
   },
   "file_extension": ".py",
   "mimetype": "text/x-python",
   "name": "python",
   "nbconvert_exporter": "python",
   "pygments_lexer": "ipython3",
   "version": "3.11.5"
  }
 },
 "nbformat": 4,
 "nbformat_minor": 2
}
